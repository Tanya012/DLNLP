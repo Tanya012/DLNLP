{
 "cells": [
  {
   "cell_type": "markdown",
   "id": "144aa1bc",
   "metadata": {},
   "source": [
    "# Chess Piece Classification"
   ]
  },
  {
   "cell_type": "markdown",
   "id": "fa267387",
   "metadata": {},
   "source": [
    "GROUP - 14\n",
    "\n",
    "Anisha Siwas - 025007\n",
    "\n",
    "Sarthak Jain - 025029\n",
    "\n",
    "Tanya Goel - 025034\n",
    "\n",
    "Chirayu Jain - 025049"
   ]
  },
  {
   "cell_type": "code",
   "execution_count": 2,
   "id": "883b87db",
   "metadata": {},
   "outputs": [],
   "source": [
    "#Importing the libraries\n",
    "import tensorflow as tf\n",
    "from keras.preprocessing.image import ImageDataGenerator"
   ]
  },
  {
   "cell_type": "code",
   "execution_count": 3,
   "id": "5c11a9a9",
   "metadata": {},
   "outputs": [
    {
     "name": "stdout",
     "output_type": "stream",
     "text": [
      "Found 476 images belonging to 5 classes.\n"
     ]
    }
   ],
   "source": [
    "#Preprocessing the Training set\n",
    "train_datagen = ImageDataGenerator(rescale = 1./255,\n",
    "                                   shear_range = 0.2,\n",
    "                                   zoom_range = 0.2,\n",
    "                                   horizontal_flip = True)\n",
    "Training_set = train_datagen.flow_from_directory('C://Users//Sarthak Jain//Downloads//Chessman-image-dataset//Training_set',\n",
    "                                                 target_size = (64, 64),\n",
    "                                                 batch_size = 32,\n",
    "                                                 class_mode = 'sparse')"
   ]
  },
  {
   "cell_type": "code",
   "execution_count": 4,
   "id": "469f1b0a",
   "metadata": {},
   "outputs": [
    {
     "name": "stdout",
     "output_type": "stream",
     "text": [
      "Found 651 images belonging to 5 classes.\n"
     ]
    }
   ],
   "source": [
    "#Preprocessing the Test set\n",
    "test_datagen = ImageDataGenerator(rescale = 1./255)\n",
    "test_set = test_datagen.flow_from_directory('C://Users//Sarthak Jain//Downloads//Chessman-image-dataset//Test_set',\n",
    "                                            target_size = (64, 64),\n",
    "                                            batch_size = 32,\n",
    "                                            class_mode = 'sparse')"
   ]
  },
  {
   "cell_type": "code",
   "execution_count": 5,
   "id": "4c79fb67",
   "metadata": {},
   "outputs": [],
   "source": [
    "#Initialising the CNN\n",
    "cnn = tf.keras.models.Sequential()"
   ]
  },
  {
   "cell_type": "code",
   "execution_count": 6,
   "id": "43fdf213",
   "metadata": {},
   "outputs": [],
   "source": [
    "#Step 1 - Convolution\n",
    "cnn.add(tf.keras.layers.Conv2D(filters=32, kernel_size=3, activation='relu', input_shape=[64, 64, 3]))"
   ]
  },
  {
   "cell_type": "code",
   "execution_count": 7,
   "id": "f855639d",
   "metadata": {},
   "outputs": [],
   "source": [
    "#Step 2 - Pooling\n",
    "cnn.add(tf.keras.layers.MaxPool2D(pool_size=2, strides=2))"
   ]
  },
  {
   "cell_type": "code",
   "execution_count": 8,
   "id": "83e6df32",
   "metadata": {},
   "outputs": [],
   "source": [
    "#Adding a second convolutional layer\n",
    "cnn.add(tf.keras.layers.Conv2D(filters=32, kernel_size=3, activation='relu'))\n",
    "cnn.add(tf.keras.layers.MaxPool2D(pool_size=2, strides=2))"
   ]
  },
  {
   "cell_type": "code",
   "execution_count": 9,
   "id": "d0d089b5",
   "metadata": {},
   "outputs": [],
   "source": [
    "#Step 3 - Flattening\n",
    "cnn.add(tf.keras.layers.Flatten())"
   ]
  },
  {
   "cell_type": "code",
   "execution_count": 10,
   "id": "fbf6d65b",
   "metadata": {},
   "outputs": [],
   "source": [
    "#Step 4 - Full Connection\n",
    "cnn.add(tf.keras.layers.Dense(units=128, activation='relu'))"
   ]
  },
  {
   "cell_type": "code",
   "execution_count": 14,
   "id": "c0384c8e",
   "metadata": {},
   "outputs": [],
   "source": [
    "#Step 5 - Output Layer\n",
    "cnn.add(tf.keras.layers.Dense(units=6, activation='softmax'))"
   ]
  },
  {
   "cell_type": "code",
   "execution_count": 15,
   "id": "0dfd1461",
   "metadata": {},
   "outputs": [],
   "source": [
    "#Compiling the CNN\n",
    "cnn.compile(optimizer = 'adam', loss = 'sparse_categorical_crossentropy', metrics = ['accuracy'])"
   ]
  },
  {
   "cell_type": "code",
   "execution_count": 16,
   "id": "413daca6",
   "metadata": {},
   "outputs": [
    {
     "name": "stdout",
     "output_type": "stream",
     "text": [
      "Epoch 1/25\n",
      "15/15 [==============================] - 8s 522ms/step - loss: 1.9232 - accuracy: 0.1807 - val_loss: 1.9599 - val_accuracy: 0.1767\n",
      "Epoch 2/25\n",
      "15/15 [==============================] - 7s 443ms/step - loss: 1.9076 - accuracy: 0.1807 - val_loss: 1.9440 - val_accuracy: 0.1767\n",
      "Epoch 3/25\n",
      "15/15 [==============================] - 7s 470ms/step - loss: 1.8925 - accuracy: 0.1807 - val_loss: 1.9286 - val_accuracy: 0.1767\n",
      "Epoch 4/25\n",
      "15/15 [==============================] - 7s 457ms/step - loss: 1.8789 - accuracy: 0.1807 - val_loss: 1.9134 - val_accuracy: 0.1767\n",
      "Epoch 5/25\n",
      "15/15 [==============================] - 7s 441ms/step - loss: 1.8652 - accuracy: 0.1807 - val_loss: 1.8997 - val_accuracy: 0.1767\n",
      "Epoch 6/25\n",
      "15/15 [==============================] - 7s 473ms/step - loss: 1.8525 - accuracy: 0.1807 - val_loss: 1.8863 - val_accuracy: 0.1767\n",
      "Epoch 7/25\n",
      "15/15 [==============================] - 7s 463ms/step - loss: 1.8404 - accuracy: 0.1807 - val_loss: 1.8730 - val_accuracy: 0.1767\n",
      "Epoch 8/25\n",
      "15/15 [==============================] - 7s 450ms/step - loss: 1.8289 - accuracy: 0.1807 - val_loss: 1.8611 - val_accuracy: 0.1767\n",
      "Epoch 9/25\n",
      "15/15 [==============================] - 7s 468ms/step - loss: 1.8179 - accuracy: 0.1807 - val_loss: 1.8494 - val_accuracy: 0.1767\n",
      "Epoch 10/25\n",
      "15/15 [==============================] - 7s 495ms/step - loss: 1.8079 - accuracy: 0.1807 - val_loss: 1.8379 - val_accuracy: 0.1767\n",
      "Epoch 11/25\n",
      "15/15 [==============================] - 7s 453ms/step - loss: 1.7978 - accuracy: 0.1807 - val_loss: 1.8278 - val_accuracy: 0.1767\n",
      "Epoch 12/25\n",
      "15/15 [==============================] - 7s 452ms/step - loss: 1.7888 - accuracy: 0.1807 - val_loss: 1.8185 - val_accuracy: 0.1767\n",
      "Epoch 13/25\n",
      "15/15 [==============================] - 7s 451ms/step - loss: 1.7798 - accuracy: 0.1807 - val_loss: 1.8096 - val_accuracy: 0.1767\n",
      "Epoch 14/25\n",
      "15/15 [==============================] - 7s 450ms/step - loss: 1.7717 - accuracy: 0.1807 - val_loss: 1.8003 - val_accuracy: 0.1767\n",
      "Epoch 15/25\n",
      "15/15 [==============================] - 7s 489ms/step - loss: 1.7637 - accuracy: 0.1807 - val_loss: 1.7926 - val_accuracy: 0.1767\n",
      "Epoch 16/25\n",
      "15/15 [==============================] - 7s 452ms/step - loss: 1.7563 - accuracy: 0.1807 - val_loss: 1.7846 - val_accuracy: 0.1767\n",
      "Epoch 17/25\n",
      "15/15 [==============================] - 7s 450ms/step - loss: 1.7492 - accuracy: 0.1807 - val_loss: 1.7775 - val_accuracy: 0.1767\n",
      "Epoch 18/25\n",
      "15/15 [==============================] - 7s 453ms/step - loss: 1.7426 - accuracy: 0.1807 - val_loss: 1.7704 - val_accuracy: 0.1767\n",
      "Epoch 19/25\n",
      "15/15 [==============================] - 7s 451ms/step - loss: 1.7361 - accuracy: 0.1807 - val_loss: 1.7644 - val_accuracy: 0.1767\n",
      "Epoch 20/25\n",
      "15/15 [==============================] - 7s 454ms/step - loss: 1.7303 - accuracy: 0.1807 - val_loss: 1.7580 - val_accuracy: 0.1767\n",
      "Epoch 21/25\n",
      "15/15 [==============================] - 7s 451ms/step - loss: 1.7250 - accuracy: 0.1807 - val_loss: 1.7520 - val_accuracy: 0.1767\n",
      "Epoch 22/25\n",
      "15/15 [==============================] - 7s 452ms/step - loss: 1.7194 - accuracy: 0.1807 - val_loss: 1.7464 - val_accuracy: 0.1767\n",
      "Epoch 23/25\n",
      "15/15 [==============================] - 7s 445ms/step - loss: 1.7145 - accuracy: 0.1807 - val_loss: 1.7424 - val_accuracy: 0.1767\n",
      "Epoch 24/25\n",
      "15/15 [==============================] - 7s 454ms/step - loss: 1.7098 - accuracy: 0.1807 - val_loss: 1.7372 - val_accuracy: 0.1767\n",
      "Epoch 25/25\n",
      "15/15 [==============================] - 7s 447ms/step - loss: 1.7052 - accuracy: 0.1807 - val_loss: 1.7328 - val_accuracy: 0.1767\n"
     ]
    },
    {
     "data": {
      "text/plain": [
       "<keras.callbacks.History at 0x249bcaa2370>"
      ]
     },
     "execution_count": 16,
     "metadata": {},
     "output_type": "execute_result"
    }
   ],
   "source": [
    "#Training the CNN on the Training set and evaluating it on the Test set\n",
    "cnn.fit(x = Training_set, validation_data = test_set, epochs = 25)\n"
   ]
  },
  {
   "cell_type": "code",
   "execution_count": 20,
   "id": "1c1e4675",
   "metadata": {},
   "outputs": [
    {
     "name": "stdout",
     "output_type": "stream",
     "text": [
      "1/1 [==============================] - 0s 18ms/step\n",
      "4\n"
     ]
    }
   ],
   "source": [
    "#Part 4 - Making a single prediction\n",
    "\n",
    "import numpy as np\n",
    "from tensorflow.keras.preprocessing import image\n",
    "\n",
    "test_image = image.load_img(\"C:/Users/Sarthak Jain/Desktop/aa.png\" , target_size = (64, 64))\n",
    "\n",
    "\n",
    "test_image = image.img_to_array(test_image)\n",
    "test_image = np.expand_dims(test_image,axis = 0)\n",
    "\n",
    "\n",
    "result = cnn.predict(test_image)\n",
    "\n",
    "result=result.astype(int)\n",
    "Y=Training_set.class_indices\n",
    "j=0\n",
    "i = 0\n",
    "while i < 4:\n",
    "    \n",
    "    if result[0][i] == 1:\n",
    "        break\n",
    "    i=i+1\n",
    "print(i)\n",
    "j=i\n",
    "if j == 0:\n",
    " prediction = 'bishop'\n",
    "    \n",
    "elif j == 1:\n",
    " prediction = 'knight'\n",
    "elif j == 2:\n",
    " prediction = 'pawn'\n",
    "elif j == 3:\n",
    " prediction = 'queen'\n",
    "elif j == 4:\n",
    " prediction = 'rook'\n"
   ]
  },
  {
   "cell_type": "code",
   "execution_count": 21,
   "id": "65e0d0bf",
   "metadata": {},
   "outputs": [
    {
     "name": "stdout",
     "output_type": "stream",
     "text": [
      "rook\n"
     ]
    }
   ],
   "source": [
    "print(prediction)"
   ]
  },
  {
   "cell_type": "code",
   "execution_count": null,
   "id": "d267cc45",
   "metadata": {},
   "outputs": [],
   "source": []
  }
 ],
 "metadata": {
  "kernelspec": {
   "display_name": "Python 3",
   "language": "python",
   "name": "python3"
  },
  "language_info": {
   "codemirror_mode": {
    "name": "ipython",
    "version": 3
   },
   "file_extension": ".py",
   "mimetype": "text/x-python",
   "name": "python",
   "nbconvert_exporter": "python",
   "pygments_lexer": "ipython3",
   "version": "3.8.8"
  }
 },
 "nbformat": 4,
 "nbformat_minor": 5
}
